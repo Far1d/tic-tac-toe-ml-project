{
 "cells": [
  {
   "cell_type": "markdown",
   "metadata": {},
   "source": [
    "- We are creating a very simple machine learning model.<br>\n",
    "- Using dataset: tic-tac-toe.data.txt with user-defined columns.<br>\n",
    "- We are treating this problem as a supervised learning problem.<br>"
   ]
  },
  {
   "cell_type": "code",
   "execution_count": 1,
   "metadata": {},
   "outputs": [],
   "source": [
    "\n",
    "import numpy as np\n",
    "import pandas as pd\n",
    "import matplotlib.pyplot as plt\n",
    "from sklearn.model_selection import train_test_split\n",
    "from sklearn.preprocessing import Imputer\n",
    "from sklearn.svm import SVC\n",
    "from sklearn.tree import DecisionTreeClassifier\n",
    "from sklearn.neighbors import KNeighborsClassifier"
   ]
  },
  {
   "cell_type": "code",
   "execution_count": 2,
   "metadata": {},
   "outputs": [],
   "source": [
    "# Loading data\n",
    "data = pd.read_csv(\"../tic-tac-toe.data.txt\", sep = \",\")\n",
    "data_copy = pd.read_csv(\"../tic-tac-toe.data.txt\", sep = \",\")\n",
    "\n",
    "# Setting cols.\n",
    "data.columns = [\"first_row_left\", \"first_row_middle\", \"first_row_right\", \"center_row_left\", \"center_row_middle\", \"center_row_right\", \"bottom_row_left\", \"bottom_row_middle\", \"bottom_row_right\", \"is_win\"]\n",
    "data_copy.columns = [\"first_row_left\", \"first_row_middle\", \"first_row_right\", \"center_row_left\", \"center_row_middle\", \"center_row_right\", \"bottom_row_left\", \"bottom_row_middle\", \"bottom_row_right\", \"is_win\"]"
   ]
  },
  {
   "cell_type": "code",
   "execution_count": 3,
   "metadata": {},
   "outputs": [],
   "source": [
    "# Viewing data\n",
    "data.to_csv(\"data.csv\")"
   ]
  },
  {
   "cell_type": "code",
   "execution_count": 4,
   "metadata": {},
   "outputs": [],
   "source": [
    "# As we can see the the different move options, we perform label encoding.\n",
    "mapping_for_moves = {'x':1, \"o\":0} # For b, we put mean of the data.\n",
    "mapping_for_wins = {\"positive\":1, \"negative\":0} # Positive is win, negative is lose\n",
    "data.is_win = data.is_win.map(mapping_for_wins)\n",
    "data_copy.is_win = data_copy.is_win.map(mapping_for_wins)\n",
    "\n",
    "data = data.drop(columns=[\"is_win\"], axis=1)"
   ]
  },
  {
   "cell_type": "code",
   "execution_count": 5,
   "metadata": {},
   "outputs": [
    {
     "data": {
      "text/html": [
       "<div>\n",
       "<style scoped>\n",
       "    .dataframe tbody tr th:only-of-type {\n",
       "        vertical-align: middle;\n",
       "    }\n",
       "\n",
       "    .dataframe tbody tr th {\n",
       "        vertical-align: top;\n",
       "    }\n",
       "\n",
       "    .dataframe thead th {\n",
       "        text-align: right;\n",
       "    }\n",
       "</style>\n",
       "<table border=\"1\" class=\"dataframe\">\n",
       "  <thead>\n",
       "    <tr style=\"text-align: right;\">\n",
       "      <th></th>\n",
       "      <th>first_row_left</th>\n",
       "      <th>first_row_middle</th>\n",
       "      <th>first_row_right</th>\n",
       "      <th>center_row_left</th>\n",
       "      <th>center_row_middle</th>\n",
       "      <th>center_row_right</th>\n",
       "      <th>bottom_row_left</th>\n",
       "      <th>bottom_row_middle</th>\n",
       "      <th>bottom_row_right</th>\n",
       "      <th>is_win</th>\n",
       "    </tr>\n",
       "  </thead>\n",
       "  <tbody>\n",
       "    <tr>\n",
       "      <th>0</th>\n",
       "      <td>x</td>\n",
       "      <td>x</td>\n",
       "      <td>x</td>\n",
       "      <td>x</td>\n",
       "      <td>o</td>\n",
       "      <td>o</td>\n",
       "      <td>o</td>\n",
       "      <td>x</td>\n",
       "      <td>o</td>\n",
       "      <td>1</td>\n",
       "    </tr>\n",
       "    <tr>\n",
       "      <th>1</th>\n",
       "      <td>x</td>\n",
       "      <td>x</td>\n",
       "      <td>x</td>\n",
       "      <td>x</td>\n",
       "      <td>o</td>\n",
       "      <td>o</td>\n",
       "      <td>o</td>\n",
       "      <td>o</td>\n",
       "      <td>x</td>\n",
       "      <td>1</td>\n",
       "    </tr>\n",
       "    <tr>\n",
       "      <th>2</th>\n",
       "      <td>x</td>\n",
       "      <td>x</td>\n",
       "      <td>x</td>\n",
       "      <td>x</td>\n",
       "      <td>o</td>\n",
       "      <td>o</td>\n",
       "      <td>o</td>\n",
       "      <td>b</td>\n",
       "      <td>b</td>\n",
       "      <td>1</td>\n",
       "    </tr>\n",
       "    <tr>\n",
       "      <th>3</th>\n",
       "      <td>x</td>\n",
       "      <td>x</td>\n",
       "      <td>x</td>\n",
       "      <td>x</td>\n",
       "      <td>o</td>\n",
       "      <td>o</td>\n",
       "      <td>b</td>\n",
       "      <td>o</td>\n",
       "      <td>b</td>\n",
       "      <td>1</td>\n",
       "    </tr>\n",
       "    <tr>\n",
       "      <th>4</th>\n",
       "      <td>x</td>\n",
       "      <td>x</td>\n",
       "      <td>x</td>\n",
       "      <td>x</td>\n",
       "      <td>o</td>\n",
       "      <td>o</td>\n",
       "      <td>b</td>\n",
       "      <td>b</td>\n",
       "      <td>o</td>\n",
       "      <td>1</td>\n",
       "    </tr>\n",
       "  </tbody>\n",
       "</table>\n",
       "</div>"
      ],
      "text/plain": [
       "  first_row_left first_row_middle first_row_right center_row_left  \\\n",
       "0              x                x               x               x   \n",
       "1              x                x               x               x   \n",
       "2              x                x               x               x   \n",
       "3              x                x               x               x   \n",
       "4              x                x               x               x   \n",
       "\n",
       "  center_row_middle center_row_right bottom_row_left bottom_row_middle  \\\n",
       "0                 o                o               o                 x   \n",
       "1                 o                o               o                 o   \n",
       "2                 o                o               o                 b   \n",
       "3                 o                o               b                 o   \n",
       "4                 o                o               b                 b   \n",
       "\n",
       "  bottom_row_right  is_win  \n",
       "0                o       1  \n",
       "1                x       1  \n",
       "2                b       1  \n",
       "3                b       1  \n",
       "4                o       1  "
      ]
     },
     "execution_count": 5,
     "metadata": {},
     "output_type": "execute_result"
    }
   ],
   "source": [
    "data_copy.head()"
   ]
  },
  {
   "cell_type": "code",
   "execution_count": 6,
   "metadata": {},
   "outputs": [],
   "source": [
    "for i in data.columns: # Applying map to all the columns except is_win.\n",
    "    data[i] = data[i].map(mapping_for_moves)"
   ]
  },
  {
   "cell_type": "code",
   "execution_count": null,
   "metadata": {},
   "outputs": [],
   "source": []
  },
  {
   "cell_type": "code",
   "execution_count": 7,
   "metadata": {},
   "outputs": [],
   "source": [
    "# Extracting features and labels\n",
    "features = data.values\n",
    "labels = data_copy.is_win.values"
   ]
  },
  {
   "cell_type": "code",
   "execution_count": 8,
   "metadata": {},
   "outputs": [],
   "source": [
    "# Filling missing values aka \"b\"\n",
    "features = (Imputer().fit_transform(features))"
   ]
  },
  {
   "cell_type": "code",
   "execution_count": 9,
   "metadata": {},
   "outputs": [
    {
     "data": {
      "text/plain": [
       "957"
      ]
     },
     "execution_count": 9,
     "metadata": {},
     "output_type": "execute_result"
    }
   ],
   "source": [
    "len(features) "
   ]
  },
  {
   "cell_type": "code",
   "execution_count": 10,
   "metadata": {},
   "outputs": [
    {
     "data": {
      "text/plain": [
       "957"
      ]
     },
     "execution_count": 10,
     "metadata": {},
     "output_type": "execute_result"
    }
   ],
   "source": [
    "len(labels)"
   ]
  },
  {
   "cell_type": "code",
   "execution_count": 11,
   "metadata": {},
   "outputs": [],
   "source": [
    "# Changing type to int\n",
    "features = features.astype(np.int)\n",
    "labels = labels.astype(np.int)"
   ]
  },
  {
   "cell_type": "code",
   "execution_count": 12,
   "metadata": {},
   "outputs": [
    {
     "data": {
      "text/plain": [
       "array([[1, 1, 1, ..., 0, 1, 0],\n",
       "       [1, 1, 1, ..., 0, 0, 1],\n",
       "       [1, 1, 1, ..., 0, 0, 0],\n",
       "       ...,\n",
       "       [0, 1, 0, ..., 1, 0, 1],\n",
       "       [0, 1, 0, ..., 1, 0, 1],\n",
       "       [0, 0, 1, ..., 0, 1, 1]])"
      ]
     },
     "execution_count": 12,
     "metadata": {},
     "output_type": "execute_result"
    }
   ],
   "source": [
    "features"
   ]
  },
  {
   "cell_type": "code",
   "execution_count": 13,
   "metadata": {},
   "outputs": [
    {
     "data": {
      "text/plain": [
       "array([1, 1, 1, 1, 1, 1, 1, 1, 1, 1, 1, 1, 1, 1, 1, 1, 1, 1, 1, 1, 1, 1,\n",
       "       1, 1, 1, 1, 1, 1, 1, 1, 1, 1, 1, 1, 1, 1, 1, 1, 1, 1, 1, 1, 1, 1,\n",
       "       1, 1, 1, 1, 1, 1, 1, 1, 1, 1, 1, 1, 1, 1, 1, 1, 1, 1, 1, 1, 1, 1,\n",
       "       1, 1, 1, 1, 1, 1, 1, 1, 1, 1, 1, 1, 1, 1, 1, 1, 1, 1, 1, 1, 1, 1,\n",
       "       1, 1, 1, 1, 1, 1, 1, 1, 1, 1, 1, 1, 1, 1, 1, 1, 1, 1, 1, 1, 1, 1,\n",
       "       1, 1, 1, 1, 1, 1, 1, 1, 1, 1, 1, 1, 1, 1, 1, 1, 1, 1, 1, 1, 1, 1,\n",
       "       1, 1, 1, 1, 1, 1, 1, 1, 1, 1, 1, 1, 1, 1, 1, 1, 1, 1, 1, 1, 1, 1,\n",
       "       1, 1, 1, 1, 1, 1, 1, 1, 1, 1, 1, 1, 1, 1, 1, 1, 1, 1, 1, 1, 1, 1,\n",
       "       1, 1, 1, 1, 1, 1, 1, 1, 1, 1, 1, 1, 1, 1, 1, 1, 1, 1, 1, 1, 1, 1,\n",
       "       1, 1, 1, 1, 1, 1, 1, 1, 1, 1, 1, 1, 1, 1, 1, 1, 1, 1, 1, 1, 1, 1,\n",
       "       1, 1, 1, 1, 1, 1, 1, 1, 1, 1, 1, 1, 1, 1, 1, 1, 1, 1, 1, 1, 1, 1,\n",
       "       1, 1, 1, 1, 1, 1, 1, 1, 1, 1, 1, 1, 1, 1, 1, 1, 1, 1, 1, 1, 1, 1,\n",
       "       1, 1, 1, 1, 1, 1, 1, 1, 1, 1, 1, 1, 1, 1, 1, 1, 1, 1, 1, 1, 1, 1,\n",
       "       1, 1, 1, 1, 1, 1, 1, 1, 1, 1, 1, 1, 1, 1, 1, 1, 1, 1, 1, 1, 1, 1,\n",
       "       1, 1, 1, 1, 1, 1, 1, 1, 1, 1, 1, 1, 1, 1, 1, 1, 1, 1, 1, 1, 1, 1,\n",
       "       1, 1, 1, 1, 1, 1, 1, 1, 1, 1, 1, 1, 1, 1, 1, 1, 1, 1, 1, 1, 1, 1,\n",
       "       1, 1, 1, 1, 1, 1, 1, 1, 1, 1, 1, 1, 1, 1, 1, 1, 1, 1, 1, 1, 1, 1,\n",
       "       1, 1, 1, 1, 1, 1, 1, 1, 1, 1, 1, 1, 1, 1, 1, 1, 1, 1, 1, 1, 1, 1,\n",
       "       1, 1, 1, 1, 1, 1, 1, 1, 1, 1, 1, 1, 1, 1, 1, 1, 1, 1, 1, 1, 1, 1,\n",
       "       1, 1, 1, 1, 1, 1, 1, 1, 1, 1, 1, 1, 1, 1, 1, 1, 1, 1, 1, 1, 1, 1,\n",
       "       1, 1, 1, 1, 1, 1, 1, 1, 1, 1, 1, 1, 1, 1, 1, 1, 1, 1, 1, 1, 1, 1,\n",
       "       1, 1, 1, 1, 1, 1, 1, 1, 1, 1, 1, 1, 1, 1, 1, 1, 1, 1, 1, 1, 1, 1,\n",
       "       1, 1, 1, 1, 1, 1, 1, 1, 1, 1, 1, 1, 1, 1, 1, 1, 1, 1, 1, 1, 1, 1,\n",
       "       1, 1, 1, 1, 1, 1, 1, 1, 1, 1, 1, 1, 1, 1, 1, 1, 1, 1, 1, 1, 1, 1,\n",
       "       1, 1, 1, 1, 1, 1, 1, 1, 1, 1, 1, 1, 1, 1, 1, 1, 1, 1, 1, 1, 1, 1,\n",
       "       1, 1, 1, 1, 1, 1, 1, 1, 1, 1, 1, 1, 1, 1, 1, 1, 1, 1, 1, 1, 1, 1,\n",
       "       1, 1, 1, 1, 1, 1, 1, 1, 1, 1, 1, 1, 1, 1, 1, 1, 1, 1, 1, 1, 1, 1,\n",
       "       1, 1, 1, 1, 1, 1, 1, 1, 1, 1, 1, 1, 1, 1, 1, 1, 1, 1, 1, 1, 1, 1,\n",
       "       1, 1, 1, 1, 1, 1, 1, 1, 1, 0, 0, 0, 0, 0, 0, 0, 0, 0, 0, 0, 0, 0,\n",
       "       0, 0, 0, 0, 0, 0, 0, 0, 0, 0, 0, 0, 0, 0, 0, 0, 0, 0, 0, 0, 0, 0,\n",
       "       0, 0, 0, 0, 0, 0, 0, 0, 0, 0, 0, 0, 0, 0, 0, 0, 0, 0, 0, 0, 0, 0,\n",
       "       0, 0, 0, 0, 0, 0, 0, 0, 0, 0, 0, 0, 0, 0, 0, 0, 0, 0, 0, 0, 0, 0,\n",
       "       0, 0, 0, 0, 0, 0, 0, 0, 0, 0, 0, 0, 0, 0, 0, 0, 0, 0, 0, 0, 0, 0,\n",
       "       0, 0, 0, 0, 0, 0, 0, 0, 0, 0, 0, 0, 0, 0, 0, 0, 0, 0, 0, 0, 0, 0,\n",
       "       0, 0, 0, 0, 0, 0, 0, 0, 0, 0, 0, 0, 0, 0, 0, 0, 0, 0, 0, 0, 0, 0,\n",
       "       0, 0, 0, 0, 0, 0, 0, 0, 0, 0, 0, 0, 0, 0, 0, 0, 0, 0, 0, 0, 0, 0,\n",
       "       0, 0, 0, 0, 0, 0, 0, 0, 0, 0, 0, 0, 0, 0, 0, 0, 0, 0, 0, 0, 0, 0,\n",
       "       0, 0, 0, 0, 0, 0, 0, 0, 0, 0, 0, 0, 0, 0, 0, 0, 0, 0, 0, 0, 0, 0,\n",
       "       0, 0, 0, 0, 0, 0, 0, 0, 0, 0, 0, 0, 0, 0, 0, 0, 0, 0, 0, 0, 0, 0,\n",
       "       0, 0, 0, 0, 0, 0, 0, 0, 0, 0, 0, 0, 0, 0, 0, 0, 0, 0, 0, 0, 0, 0,\n",
       "       0, 0, 0, 0, 0, 0, 0, 0, 0, 0, 0, 0, 0, 0, 0, 0, 0, 0, 0, 0, 0, 0,\n",
       "       0, 0, 0, 0, 0, 0, 0, 0, 0, 0, 0, 0, 0, 0, 0, 0, 0, 0, 0, 0, 0, 0,\n",
       "       0, 0, 0, 0, 0, 0, 0, 0, 0, 0, 0, 0, 0, 0, 0, 0, 0, 0, 0, 0, 0, 0,\n",
       "       0, 0, 0, 0, 0, 0, 0, 0, 0, 0, 0])"
      ]
     },
     "execution_count": 13,
     "metadata": {},
     "output_type": "execute_result"
    }
   ],
   "source": [
    "labels"
   ]
  },
  {
   "cell_type": "markdown",
   "metadata": {},
   "source": [
    "- Preprocessing is done."
   ]
  },
  {
   "cell_type": "code",
   "execution_count": 14,
   "metadata": {},
   "outputs": [],
   "source": [
    "features_train, features_test, labels_train, labels_test = train_test_split(features, labels, random_state=3, shuffle=True)"
   ]
  },
  {
   "cell_type": "code",
   "execution_count": 15,
   "metadata": {},
   "outputs": [
    {
     "data": {
      "text/html": [
       "<div>\n",
       "<style scoped>\n",
       "    .dataframe tbody tr th:only-of-type {\n",
       "        vertical-align: middle;\n",
       "    }\n",
       "\n",
       "    .dataframe tbody tr th {\n",
       "        vertical-align: top;\n",
       "    }\n",
       "\n",
       "    .dataframe thead th {\n",
       "        text-align: right;\n",
       "    }\n",
       "</style>\n",
       "<table border=\"1\" class=\"dataframe\">\n",
       "  <thead>\n",
       "    <tr style=\"text-align: right;\">\n",
       "      <th></th>\n",
       "      <th>first_row_left</th>\n",
       "      <th>first_row_middle</th>\n",
       "      <th>first_row_right</th>\n",
       "      <th>center_row_left</th>\n",
       "      <th>center_row_middle</th>\n",
       "      <th>center_row_right</th>\n",
       "      <th>bottom_row_left</th>\n",
       "      <th>bottom_row_middle</th>\n",
       "      <th>bottom_row_right</th>\n",
       "    </tr>\n",
       "  </thead>\n",
       "  <tbody>\n",
       "    <tr>\n",
       "      <th>first_row_left</th>\n",
       "      <td>1.000000</td>\n",
       "      <td>-0.050132</td>\n",
       "      <td>-0.141443</td>\n",
       "      <td>-0.050132</td>\n",
       "      <td>-0.126583</td>\n",
       "      <td>-0.340581</td>\n",
       "      <td>-0.141443</td>\n",
       "      <td>-0.340581</td>\n",
       "      <td>-0.040388</td>\n",
       "    </tr>\n",
       "    <tr>\n",
       "      <th>first_row_middle</th>\n",
       "      <td>-0.050132</td>\n",
       "      <td>1.000000</td>\n",
       "      <td>-0.050132</td>\n",
       "      <td>-0.259385</td>\n",
       "      <td>-0.137291</td>\n",
       "      <td>-0.255754</td>\n",
       "      <td>-0.343900</td>\n",
       "      <td>0.054459</td>\n",
       "      <td>-0.340492</td>\n",
       "    </tr>\n",
       "    <tr>\n",
       "      <th>first_row_right</th>\n",
       "      <td>-0.141443</td>\n",
       "      <td>-0.050132</td>\n",
       "      <td>1.000000</td>\n",
       "      <td>-0.343900</td>\n",
       "      <td>-0.126583</td>\n",
       "      <td>-0.046933</td>\n",
       "      <td>-0.043450</td>\n",
       "      <td>-0.340581</td>\n",
       "      <td>-0.138409</td>\n",
       "    </tr>\n",
       "    <tr>\n",
       "      <th>center_row_left</th>\n",
       "      <td>-0.050132</td>\n",
       "      <td>-0.259385</td>\n",
       "      <td>-0.343900</td>\n",
       "      <td>1.000000</td>\n",
       "      <td>-0.137291</td>\n",
       "      <td>0.054459</td>\n",
       "      <td>-0.050132</td>\n",
       "      <td>-0.255754</td>\n",
       "      <td>-0.340492</td>\n",
       "    </tr>\n",
       "    <tr>\n",
       "      <th>center_row_middle</th>\n",
       "      <td>-0.126583</td>\n",
       "      <td>-0.137291</td>\n",
       "      <td>-0.126583</td>\n",
       "      <td>-0.137291</td>\n",
       "      <td>1.000000</td>\n",
       "      <td>-0.141296</td>\n",
       "      <td>-0.126583</td>\n",
       "      <td>-0.141296</td>\n",
       "      <td>-0.130312</td>\n",
       "    </tr>\n",
       "    <tr>\n",
       "      <th>center_row_right</th>\n",
       "      <td>-0.340581</td>\n",
       "      <td>-0.255754</td>\n",
       "      <td>-0.046933</td>\n",
       "      <td>0.054459</td>\n",
       "      <td>-0.141296</td>\n",
       "      <td>1.000000</td>\n",
       "      <td>-0.340581</td>\n",
       "      <td>-0.259962</td>\n",
       "      <td>-0.050921</td>\n",
       "    </tr>\n",
       "    <tr>\n",
       "      <th>bottom_row_left</th>\n",
       "      <td>-0.141443</td>\n",
       "      <td>-0.343900</td>\n",
       "      <td>-0.043450</td>\n",
       "      <td>-0.050132</td>\n",
       "      <td>-0.126583</td>\n",
       "      <td>-0.340581</td>\n",
       "      <td>1.000000</td>\n",
       "      <td>-0.046933</td>\n",
       "      <td>-0.138409</td>\n",
       "    </tr>\n",
       "    <tr>\n",
       "      <th>bottom_row_middle</th>\n",
       "      <td>-0.340581</td>\n",
       "      <td>0.054459</td>\n",
       "      <td>-0.340581</td>\n",
       "      <td>-0.255754</td>\n",
       "      <td>-0.141296</td>\n",
       "      <td>-0.259962</td>\n",
       "      <td>-0.046933</td>\n",
       "      <td>1.000000</td>\n",
       "      <td>-0.050921</td>\n",
       "    </tr>\n",
       "    <tr>\n",
       "      <th>bottom_row_right</th>\n",
       "      <td>-0.040388</td>\n",
       "      <td>-0.340492</td>\n",
       "      <td>-0.138409</td>\n",
       "      <td>-0.340492</td>\n",
       "      <td>-0.130312</td>\n",
       "      <td>-0.050921</td>\n",
       "      <td>-0.138409</td>\n",
       "      <td>-0.050921</td>\n",
       "      <td>1.000000</td>\n",
       "    </tr>\n",
       "  </tbody>\n",
       "</table>\n",
       "</div>"
      ],
      "text/plain": [
       "                   first_row_left  first_row_middle  first_row_right  \\\n",
       "first_row_left           1.000000         -0.050132        -0.141443   \n",
       "first_row_middle        -0.050132          1.000000        -0.050132   \n",
       "first_row_right         -0.141443         -0.050132         1.000000   \n",
       "center_row_left         -0.050132         -0.259385        -0.343900   \n",
       "center_row_middle       -0.126583         -0.137291        -0.126583   \n",
       "center_row_right        -0.340581         -0.255754        -0.046933   \n",
       "bottom_row_left         -0.141443         -0.343900        -0.043450   \n",
       "bottom_row_middle       -0.340581          0.054459        -0.340581   \n",
       "bottom_row_right        -0.040388         -0.340492        -0.138409   \n",
       "\n",
       "                   center_row_left  center_row_middle  center_row_right  \\\n",
       "first_row_left           -0.050132          -0.126583         -0.340581   \n",
       "first_row_middle         -0.259385          -0.137291         -0.255754   \n",
       "first_row_right          -0.343900          -0.126583         -0.046933   \n",
       "center_row_left           1.000000          -0.137291          0.054459   \n",
       "center_row_middle        -0.137291           1.000000         -0.141296   \n",
       "center_row_right          0.054459          -0.141296          1.000000   \n",
       "bottom_row_left          -0.050132          -0.126583         -0.340581   \n",
       "bottom_row_middle        -0.255754          -0.141296         -0.259962   \n",
       "bottom_row_right         -0.340492          -0.130312         -0.050921   \n",
       "\n",
       "                   bottom_row_left  bottom_row_middle  bottom_row_right  \n",
       "first_row_left           -0.141443          -0.340581         -0.040388  \n",
       "first_row_middle         -0.343900           0.054459         -0.340492  \n",
       "first_row_right          -0.043450          -0.340581         -0.138409  \n",
       "center_row_left          -0.050132          -0.255754         -0.340492  \n",
       "center_row_middle        -0.126583          -0.141296         -0.130312  \n",
       "center_row_right         -0.340581          -0.259962         -0.050921  \n",
       "bottom_row_left           1.000000          -0.046933         -0.138409  \n",
       "bottom_row_middle        -0.046933           1.000000         -0.050921  \n",
       "bottom_row_right         -0.138409          -0.050921          1.000000  "
      ]
     },
     "execution_count": 15,
     "metadata": {},
     "output_type": "execute_result"
    }
   ],
   "source": [
    "data.corr()"
   ]
  },
  {
   "cell_type": "markdown",
   "metadata": {},
   "source": [
    "- Clearly it is a classification problem, we can use DecisionTree or SVC"
   ]
  },
  {
   "cell_type": "code",
   "execution_count": 16,
   "metadata": {},
   "outputs": [],
   "source": [
    "# Trying different classifiers.\n",
    "clf = DecisionTreeClassifier()\n",
    "clf.fit(features_train, labels_train)\n",
    "d_tree_score = clf.score(features_test, labels_test) # Good result!"
   ]
  },
  {
   "cell_type": "code",
   "execution_count": 17,
   "metadata": {},
   "outputs": [
    {
     "data": {
      "text/plain": [
       "0.8583333333333333"
      ]
     },
     "execution_count": 17,
     "metadata": {},
     "output_type": "execute_result"
    }
   ],
   "source": [
    "clf2 = SVC() # Clearly the data is non linear.\n",
    "clf2.fit(features_train, labels_train)\n",
    "clf2.score(features_test, labels_test) # Not good!"
   ]
  },
  {
   "cell_type": "code",
   "execution_count": 18,
   "metadata": {},
   "outputs": [],
   "source": [
    "clf3 = KNeighborsClassifier(n_neighbors=1)\n",
    "clf3.fit(features_train, labels_train)\n",
    "k_score = clf3.score(features_test, labels_test)"
   ]
  },
  {
   "cell_type": "code",
   "execution_count": 19,
   "metadata": {},
   "outputs": [
    {
     "data": {
      "text/plain": [
       "False"
      ]
     },
     "execution_count": 19,
     "metadata": {},
     "output_type": "execute_result"
    }
   ],
   "source": [
    "d_tree_score > k_score"
   ]
  },
  {
   "cell_type": "code",
   "execution_count": 20,
   "metadata": {},
   "outputs": [],
   "source": [
    "predictions = clf3.predict(features_test)"
   ]
  },
  {
   "cell_type": "code",
   "execution_count": 21,
   "metadata": {},
   "outputs": [],
   "source": [
    "from sklearn.metrics import confusion_matrix\n",
    "cm = confusion_matrix(labels_test, predictions)"
   ]
  },
  {
   "cell_type": "code",
   "execution_count": 22,
   "metadata": {},
   "outputs": [
    {
     "data": {
      "text/plain": [
       "array([[ 78,   3],\n",
       "       [  2, 157]])"
      ]
     },
     "execution_count": 22,
     "metadata": {},
     "output_type": "execute_result"
    }
   ],
   "source": [
    "cm"
   ]
  },
  {
   "cell_type": "code",
   "execution_count": 23,
   "metadata": {},
   "outputs": [
    {
     "data": {
      "text/plain": [
       "(array([ 17,  74, 178, 212, 219]),)"
      ]
     },
     "execution_count": 23,
     "metadata": {},
     "output_type": "execute_result"
    }
   ],
   "source": [
    "np.where(labels_test!=predictions)"
   ]
  },
  {
   "cell_type": "code",
   "execution_count": 24,
   "metadata": {},
   "outputs": [
    {
     "data": {
      "text/plain": [
       "0.9791666666666666"
      ]
     },
     "execution_count": 24,
     "metadata": {},
     "output_type": "execute_result"
    }
   ],
   "source": [
    "d_tree_score\n"
   ]
  },
  {
   "cell_type": "code",
   "execution_count": 25,
   "metadata": {},
   "outputs": [
    {
     "data": {
      "text/plain": [
       "0.9791666666666666"
      ]
     },
     "execution_count": 25,
     "metadata": {},
     "output_type": "execute_result"
    }
   ],
   "source": [
    "k_score"
   ]
  },
  {
   "cell_type": "code",
   "execution_count": 26,
   "metadata": {},
   "outputs": [],
   "source": [
    "from sklearn.metrics import classification_report\n",
    "c = classification_report(labels_test, predictions)"
   ]
  },
  {
   "cell_type": "code",
   "execution_count": 27,
   "metadata": {},
   "outputs": [
    {
     "data": {
      "text/plain": [
       "'             precision    recall  f1-score   support\\n\\n          0       0.97      0.96      0.97        81\\n          1       0.98      0.99      0.98       159\\n\\navg / total       0.98      0.98      0.98       240\\n'"
      ]
     },
     "execution_count": 27,
     "metadata": {},
     "output_type": "execute_result"
    }
   ],
   "source": [
    "c"
   ]
  },
  {
   "cell_type": "code",
   "execution_count": 28,
   "metadata": {},
   "outputs": [
    {
     "name": "stderr",
     "output_type": "stream",
     "text": [
      "/Library/Frameworks/Python.framework/Versions/3.6/lib/python3.6/site-packages/ipykernel_launcher.py:6: DeprecationWarning: elementwise != comparison failed; this will raise an error in the future.\n",
      "  \n"
     ]
    },
    {
     "data": {
      "text/plain": [
       "0.9833333333333333"
      ]
     },
     "execution_count": 28,
     "metadata": {},
     "output_type": "execute_result"
    }
   ],
   "source": [
    "from sklearn.ensemble import RandomForestClassifier\n",
    "r = RandomForestClassifier(n_estimators=100) # With 100 decision tree\n",
    "r.fit(features_train, labels_train)\n",
    "r_forest = r.score(features_test, labels_test)\n",
    "p = r.predict(features_test)\n",
    "np.where(labels_test!=features_test) # Only one misclassified\n",
    "r_forest"
   ]
  },
  {
   "cell_type": "code",
   "execution_count": 29,
   "metadata": {},
   "outputs": [],
   "source": [
    "cm  = confusion_matrix(labels_test, p)"
   ]
  },
  {
   "cell_type": "code",
   "execution_count": 30,
   "metadata": {},
   "outputs": [
    {
     "data": {
      "text/plain": [
       "array([[ 79,   2],\n",
       "       [  2, 157]])"
      ]
     },
     "execution_count": 30,
     "metadata": {},
     "output_type": "execute_result"
    }
   ],
   "source": [
    "cm"
   ]
  },
  {
   "cell_type": "code",
   "execution_count": 31,
   "metadata": {},
   "outputs": [],
   "source": [
    "from sklearn.externals import joblib"
   ]
  },
  {
   "cell_type": "code",
   "execution_count": 32,
   "metadata": {},
   "outputs": [],
   "source": [
    "from sklearn.model_selection import GridSearchCV\n"
   ]
  },
  {
   "cell_type": "code",
   "execution_count": 33,
   "metadata": {},
   "outputs": [
    {
     "data": {
      "text/plain": [
       "GridSearchCV(cv=None, error_score='raise',\n",
       "       estimator=RandomForestClassifier(bootstrap=True, class_weight=None, criterion='gini',\n",
       "            max_depth=None, max_features='auto', max_leaf_nodes=None,\n",
       "            min_impurity_decrease=0.0, min_impurity_split=None,\n",
       "            min_samples_leaf=1, min_samples_split=2,\n",
       "            min_weight_fraction_leaf=0.0, n_estimators=10, n_jobs=1,\n",
       "            oob_score=False, random_state=None, verbose=0,\n",
       "            warm_start=False),\n",
       "       fit_params=None, iid=True, n_jobs=1,\n",
       "       param_grid=[{'n_estimators': [10, 100, 1000]}],\n",
       "       pre_dispatch='2*n_jobs', refit=True, return_train_score='warn',\n",
       "       scoring=None, verbose=0)"
      ]
     },
     "execution_count": 33,
     "metadata": {},
     "output_type": "execute_result"
    }
   ],
   "source": [
    "param = [ {\"n_estimators\":[10,100 ,1000]}]\n",
    "r = RandomForestClassifier()\n",
    "clf = GridSearchCV(r, param)\n",
    "clf.fit(features_train, labels_train)"
   ]
  },
  {
   "cell_type": "code",
   "execution_count": 34,
   "metadata": {},
   "outputs": [
    {
     "data": {
      "text/plain": [
       "0.9748953974895398"
      ]
     },
     "execution_count": 34,
     "metadata": {},
     "output_type": "execute_result"
    }
   ],
   "source": [
    "clf.best_score_"
   ]
  },
  {
   "cell_type": "code",
   "execution_count": 35,
   "metadata": {},
   "outputs": [
    {
     "data": {
      "text/html": [
       "<div>\n",
       "<style scoped>\n",
       "    .dataframe tbody tr th:only-of-type {\n",
       "        vertical-align: middle;\n",
       "    }\n",
       "\n",
       "    .dataframe tbody tr th {\n",
       "        vertical-align: top;\n",
       "    }\n",
       "\n",
       "    .dataframe thead th {\n",
       "        text-align: right;\n",
       "    }\n",
       "</style>\n",
       "<table border=\"1\" class=\"dataframe\">\n",
       "  <thead>\n",
       "    <tr style=\"text-align: right;\">\n",
       "      <th></th>\n",
       "      <th>first_row_left</th>\n",
       "      <th>first_row_middle</th>\n",
       "      <th>first_row_right</th>\n",
       "      <th>center_row_left</th>\n",
       "      <th>center_row_middle</th>\n",
       "      <th>center_row_right</th>\n",
       "      <th>bottom_row_left</th>\n",
       "      <th>bottom_row_middle</th>\n",
       "      <th>bottom_row_right</th>\n",
       "      <th>is_win</th>\n",
       "    </tr>\n",
       "  </thead>\n",
       "  <tbody>\n",
       "    <tr>\n",
       "      <th>0</th>\n",
       "      <td>x</td>\n",
       "      <td>x</td>\n",
       "      <td>x</td>\n",
       "      <td>x</td>\n",
       "      <td>o</td>\n",
       "      <td>o</td>\n",
       "      <td>o</td>\n",
       "      <td>x</td>\n",
       "      <td>o</td>\n",
       "      <td>1</td>\n",
       "    </tr>\n",
       "    <tr>\n",
       "      <th>1</th>\n",
       "      <td>x</td>\n",
       "      <td>x</td>\n",
       "      <td>x</td>\n",
       "      <td>x</td>\n",
       "      <td>o</td>\n",
       "      <td>o</td>\n",
       "      <td>o</td>\n",
       "      <td>o</td>\n",
       "      <td>x</td>\n",
       "      <td>1</td>\n",
       "    </tr>\n",
       "    <tr>\n",
       "      <th>2</th>\n",
       "      <td>x</td>\n",
       "      <td>x</td>\n",
       "      <td>x</td>\n",
       "      <td>x</td>\n",
       "      <td>o</td>\n",
       "      <td>o</td>\n",
       "      <td>o</td>\n",
       "      <td>b</td>\n",
       "      <td>b</td>\n",
       "      <td>1</td>\n",
       "    </tr>\n",
       "    <tr>\n",
       "      <th>3</th>\n",
       "      <td>x</td>\n",
       "      <td>x</td>\n",
       "      <td>x</td>\n",
       "      <td>x</td>\n",
       "      <td>o</td>\n",
       "      <td>o</td>\n",
       "      <td>b</td>\n",
       "      <td>o</td>\n",
       "      <td>b</td>\n",
       "      <td>1</td>\n",
       "    </tr>\n",
       "    <tr>\n",
       "      <th>4</th>\n",
       "      <td>x</td>\n",
       "      <td>x</td>\n",
       "      <td>x</td>\n",
       "      <td>x</td>\n",
       "      <td>o</td>\n",
       "      <td>o</td>\n",
       "      <td>b</td>\n",
       "      <td>b</td>\n",
       "      <td>o</td>\n",
       "      <td>1</td>\n",
       "    </tr>\n",
       "  </tbody>\n",
       "</table>\n",
       "</div>"
      ],
      "text/plain": [
       "  first_row_left first_row_middle first_row_right center_row_left  \\\n",
       "0              x                x               x               x   \n",
       "1              x                x               x               x   \n",
       "2              x                x               x               x   \n",
       "3              x                x               x               x   \n",
       "4              x                x               x               x   \n",
       "\n",
       "  center_row_middle center_row_right bottom_row_left bottom_row_middle  \\\n",
       "0                 o                o               o                 x   \n",
       "1                 o                o               o                 o   \n",
       "2                 o                o               o                 b   \n",
       "3                 o                o               b                 o   \n",
       "4                 o                o               b                 b   \n",
       "\n",
       "  bottom_row_right  is_win  \n",
       "0                o       1  \n",
       "1                x       1  \n",
       "2                b       1  \n",
       "3                b       1  \n",
       "4                o       1  "
      ]
     },
     "execution_count": 35,
     "metadata": {},
     "output_type": "execute_result"
    }
   ],
   "source": [
    "data_copy.head()"
   ]
  },
  {
   "cell_type": "code",
   "execution_count": 36,
   "metadata": {},
   "outputs": [
    {
     "name": "stderr",
     "output_type": "stream",
     "text": [
      "WARNING:root:Keras version 2.1.5 detected. Last version known to be fully compatible of Keras is 2.1.3 .\n",
      "WARNING:root:TensorFlow version 1.6.0 detected. Last version known to be fully compatible is 1.5.0 .\n"
     ]
    }
   ],
   "source": [
    "import coremltools\n"
   ]
  },
  {
   "cell_type": "code",
   "execution_count": 43,
   "metadata": {},
   "outputs": [
    {
     "ename": "SyntaxError",
     "evalue": "invalid syntax (<ipython-input-43-b320d5dc12fe>, line 1)",
     "output_type": "error",
     "traceback": [
      "\u001b[0;36m  File \u001b[0;32m\"<ipython-input-43-b320d5dc12fe>\"\u001b[0;36m, line \u001b[0;32m1\u001b[0m\n\u001b[0;31m    coremltools.converters.sklearn.convert(clf, ,output_feature_names=\"is_win\",input_features=[\"first_row_left\",\"first_row_middle\", \"first_row_right\", \"center_row_left\", \"center_row_middle\", \"center_row_right\", \"bottom_row_left\", \"bottom_row_middle\", \"bottom_row_right\"])\u001b[0m\n\u001b[0m                                                ^\u001b[0m\n\u001b[0;31mSyntaxError\u001b[0m\u001b[0;31m:\u001b[0m invalid syntax\n"
     ]
    }
   ],
   "source": [
    "coremltools.converters.sklearn.convert(clf, ,output_feature_names=\"is_win\",input_features=[\"first_row_left\",\"first_row_middle\", \"first_row_right\", \"center_row_left\", \"center_row_middle\", \"center_row_right\", \"bottom_row_left\", \"bottom_row_middle\", \"bottom_row_right\"])"
   ]
  },
  {
   "cell_type": "code",
   "execution_count": 46,
   "metadata": {},
   "outputs": [
    {
     "name": "stdout",
     "output_type": "stream",
     "text": [
      "Epoch 1/50\n",
      "717/717 [==============================] - 0s 428us/step - loss: 5.5809 - acc: 0.6499\n",
      "Epoch 2/50\n",
      "717/717 [==============================] - 0s 79us/step - loss: 5.5809 - acc: 0.6499\n",
      "Epoch 3/50\n",
      "717/717 [==============================] - 0s 82us/step - loss: 5.5809 - acc: 0.6499\n",
      "Epoch 4/50\n",
      "717/717 [==============================] - 0s 81us/step - loss: 5.5809 - acc: 0.6499\n",
      "Epoch 5/50\n",
      "717/717 [==============================] - 0s 82us/step - loss: 5.5809 - acc: 0.6499\n",
      "Epoch 6/50\n",
      "717/717 [==============================] - 0s 92us/step - loss: 5.5809 - acc: 0.6499\n",
      "Epoch 7/50\n",
      "717/717 [==============================] - 0s 99us/step - loss: 5.5809 - acc: 0.6499\n",
      "Epoch 8/50\n",
      "717/717 [==============================] - 0s 94us/step - loss: 5.5809 - acc: 0.6499\n",
      "Epoch 9/50\n",
      "717/717 [==============================] - 0s 93us/step - loss: 5.5809 - acc: 0.6499\n",
      "Epoch 10/50\n",
      "717/717 [==============================] - 0s 83us/step - loss: 5.5809 - acc: 0.6499\n",
      "Epoch 11/50\n",
      "717/717 [==============================] - 0s 82us/step - loss: 5.5809 - acc: 0.6499\n",
      "Epoch 12/50\n",
      "717/717 [==============================] - 0s 85us/step - loss: 5.5809 - acc: 0.6499\n",
      "Epoch 13/50\n",
      "717/717 [==============================] - 0s 85us/step - loss: 5.5809 - acc: 0.6499\n",
      "Epoch 14/50\n",
      "717/717 [==============================] - 0s 101us/step - loss: 5.5809 - acc: 0.6499\n",
      "Epoch 15/50\n",
      "717/717 [==============================] - 0s 92us/step - loss: 5.5809 - acc: 0.6499\n",
      "Epoch 16/50\n",
      "717/717 [==============================] - 0s 92us/step - loss: 5.5809 - acc: 0.6499\n",
      "Epoch 17/50\n",
      "717/717 [==============================] - 0s 84us/step - loss: 5.5809 - acc: 0.6499\n",
      "Epoch 18/50\n",
      "717/717 [==============================] - 0s 85us/step - loss: 5.5809 - acc: 0.6499\n",
      "Epoch 19/50\n",
      "717/717 [==============================] - 0s 80us/step - loss: 5.5809 - acc: 0.6499\n",
      "Epoch 20/50\n",
      "717/717 [==============================] - 0s 80us/step - loss: 5.5809 - acc: 0.6499\n",
      "Epoch 21/50\n",
      "717/717 [==============================] - 0s 82us/step - loss: 5.5809 - acc: 0.6499\n",
      "Epoch 22/50\n",
      "717/717 [==============================] - 0s 90us/step - loss: 5.5809 - acc: 0.6499\n",
      "Epoch 23/50\n",
      "717/717 [==============================] - 0s 89us/step - loss: 5.5809 - acc: 0.6499\n",
      "Epoch 24/50\n",
      "717/717 [==============================] - 0s 98us/step - loss: 5.5809 - acc: 0.6499\n",
      "Epoch 25/50\n",
      "717/717 [==============================] - 0s 87us/step - loss: 5.5809 - acc: 0.6499\n",
      "Epoch 26/50\n",
      "717/717 [==============================] - 0s 88us/step - loss: 5.5809 - acc: 0.6499\n",
      "Epoch 27/50\n",
      "717/717 [==============================] - 0s 99us/step - loss: 5.5809 - acc: 0.6499\n",
      "Epoch 28/50\n",
      "717/717 [==============================] - 0s 104us/step - loss: 5.5809 - acc: 0.6499\n",
      "Epoch 29/50\n",
      "717/717 [==============================] - 0s 100us/step - loss: 5.5809 - acc: 0.6499\n",
      "Epoch 30/50\n",
      "717/717 [==============================] - 0s 88us/step - loss: 5.5809 - acc: 0.6499\n",
      "Epoch 31/50\n",
      "717/717 [==============================] - 0s 80us/step - loss: 5.5809 - acc: 0.6499\n",
      "Epoch 32/50\n",
      "717/717 [==============================] - 0s 75us/step - loss: 5.5809 - acc: 0.6499\n",
      "Epoch 33/50\n",
      "717/717 [==============================] - 0s 77us/step - loss: 5.5809 - acc: 0.6499\n",
      "Epoch 34/50\n",
      "717/717 [==============================] - 0s 92us/step - loss: 5.5809 - acc: 0.6499\n",
      "Epoch 35/50\n",
      "717/717 [==============================] - 0s 102us/step - loss: 5.5809 - acc: 0.6499\n",
      "Epoch 36/50\n",
      "717/717 [==============================] - 0s 87us/step - loss: 5.5809 - acc: 0.6499\n",
      "Epoch 37/50\n",
      "717/717 [==============================] - 0s 87us/step - loss: 5.5809 - acc: 0.6499\n",
      "Epoch 38/50\n",
      "717/717 [==============================] - 0s 85us/step - loss: 5.5809 - acc: 0.6499\n",
      "Epoch 39/50\n",
      "717/717 [==============================] - 0s 76us/step - loss: 5.5809 - acc: 0.6499\n",
      "Epoch 40/50\n",
      "717/717 [==============================] - 0s 86us/step - loss: 5.5809 - acc: 0.6499\n",
      "Epoch 41/50\n",
      "717/717 [==============================] - 0s 89us/step - loss: 5.5809 - acc: 0.6499\n",
      "Epoch 42/50\n",
      "717/717 [==============================] - 0s 88us/step - loss: 5.5809 - acc: 0.6499\n",
      "Epoch 43/50\n",
      "717/717 [==============================] - 0s 91us/step - loss: 5.5809 - acc: 0.6499\n",
      "Epoch 44/50\n",
      "717/717 [==============================] - 0s 89us/step - loss: 5.5809 - acc: 0.6499\n",
      "Epoch 45/50\n",
      "717/717 [==============================] - 0s 94us/step - loss: 5.5809 - acc: 0.6499\n",
      "Epoch 46/50\n",
      "717/717 [==============================] - 0s 94us/step - loss: 5.5809 - acc: 0.6499\n",
      "Epoch 47/50\n",
      "717/717 [==============================] - 0s 97us/step - loss: 5.5809 - acc: 0.6499\n",
      "Epoch 48/50\n",
      "717/717 [==============================] - 0s 80us/step - loss: 5.5809 - acc: 0.6499\n",
      "Epoch 49/50\n",
      "717/717 [==============================] - 0s 77us/step - loss: 5.5809 - acc: 0.6499\n",
      "Epoch 50/50\n",
      "717/717 [==============================] - 0s 75us/step - loss: 5.5809 - acc: 0.6499\n"
     ]
    },
    {
     "data": {
      "text/plain": [
       "<keras.callbacks.History at 0x1260ffe80>"
      ]
     },
     "execution_count": 46,
     "metadata": {},
     "output_type": "execute_result"
    }
   ],
   "source": [
    "import keras\n",
    "from keras.layers import Dense\n",
    "from keras import Sequential\n",
    "model = Sequential()\n",
    "model.add(Dense(100, input_dim=features_train.shape[1], activation=\"tanh\"))\n",
    "model.add(Dense(100, activation=\"relu\"))\n",
    "model.add(Dense(1, activation=\"softmax\"))\n",
    "\n",
    "model.compile(optimizer=\"adam\", loss=keras.losses.binary_crossentropy, metrics=[\"accuracy\"])\n",
    "model.fit(features_train, labels_train, epochs=50)"
   ]
  },
  {
   "cell_type": "code",
   "execution_count": null,
   "metadata": {},
   "outputs": [],
   "source": []
  },
  {
   "cell_type": "code",
   "execution_count": null,
   "metadata": {},
   "outputs": [],
   "source": []
  }
 ],
 "metadata": {
  "kernelspec": {
   "display_name": "Python 3",
   "language": "python",
   "name": "python3"
  },
  "language_info": {
   "codemirror_mode": {
    "name": "ipython",
    "version": 3
   },
   "file_extension": ".py",
   "mimetype": "text/x-python",
   "name": "python",
   "nbconvert_exporter": "python",
   "pygments_lexer": "ipython3",
   "version": "3.6.4"
  }
 },
 "nbformat": 4,
 "nbformat_minor": 2
}
